{
 "cells": [
  {
   "cell_type": "code",
   "execution_count": 8,
   "id": "0f44de23",
   "metadata": {},
   "outputs": [
    {
     "name": "stdout",
     "output_type": "stream",
     "text": [
      "Hi\n"
     ]
    }
   ],
   "source": [
    "print(\"Hi\")"
   ]
  },
  {
   "cell_type": "code",
   "execution_count": 46,
   "id": "f588d044",
   "metadata": {},
   "outputs": [
    {
     "name": "stdout",
     "output_type": "stream",
     "text": [
      "2727.8322315515416\n"
     ]
    }
   ],
   "source": [
    "import random as rnd\n",
    "m=1000\n",
    "count=0 \n",
    "for i in range(0,m):\n",
    "\n",
    "    x = rnd.uniform(0,1)\n",
    "    y=  rnd.uniform(0,1)\n",
    "    \n",
    "    z= x*x + y*y\n",
    "    \n",
    "    if z<= 1:\n",
    "        count+=1\n",
    "    else:\n",
    "        count+=0\n",
    "g= 4*(count/z)\n",
    "    \n",
    "\n",
    "print(g)\n",
    "\n"
   ]
  }
 ],
 "metadata": {
  "kernelspec": {
   "display_name": "Python 3 (ipykernel)",
   "language": "python",
   "name": "python3"
  },
  "language_info": {
   "codemirror_mode": {
    "name": "ipython",
    "version": 3
   },
   "file_extension": ".py",
   "mimetype": "text/x-python",
   "name": "python",
   "nbconvert_exporter": "python",
   "pygments_lexer": "ipython3",
   "version": "3.9.13"
  }
 },
 "nbformat": 4,
 "nbformat_minor": 5
}
